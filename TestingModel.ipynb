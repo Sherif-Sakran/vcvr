{
 "cells": [
  {
   "cell_type": "code",
   "execution_count": 1,
   "metadata": {},
   "outputs": [],
   "source": [
    "import os\n",
    "import _pickle as cPickle\n",
    "import numpy as np\n",
    "from scipy.io.wavfile import read\n",
    "from FeatureExtraction import extract_features\n",
    "#from speakerfeatures import extract_features\n",
    "import warnings\n",
    "warnings.filterwarnings(\"ignore\")\n",
    "import time\n",
    "import sys\n",
    "import glob"
   ]
  },
  {
   "cell_type": "code",
   "execution_count": 11,
   "metadata": {},
   "outputs": [
    {
     "name": "stdout",
     "output_type": "stream",
     "text": [
      "Loaded Models:  7\n",
      "Testing the model with all the samples...\n",
      "Abdelrahman Said:Sherif, Abdelrahman Said:Omar, Omar:Sherif, Omar:Abdelrahman Said, Omar:Sherif, Omar:Sherif, Omar:Abdelrahman Said, Omar:Sherif, Omar:Sherif, Omar:Abdelrahman Said, Omar:Abdelrahman Said, Omar:Abdelrahman Said, Reem:Renad, Renad:Reem, Renad:Reem, Renad:Silence, Sherif:Abdelrahman Said, Sherif:Omar, Sherif:Omar, Sherif:Abdelrahman Said, Sherif:Omar, Sherif:Omar, Sherif:Omar, Sherif:Silence, Sherif:Omar, Sherif:Omar, Sherif:Abdelrahman Said, Youssef:Omar, Youssef:Omar, Youssef:Omar, Youssef:Omar, Youssef:Omar, Youssef:Omar, Youssef:Omar, Youssef:Omar, Youssef:Omar, Youssef:Omar, Youssef:Omar, Youssef:Omar, Youssef:Omar, Youssef:Omar, Youssef:Omar, Youssef:Sherif, Youssef:Omar, Youssef:Abdelrahman Said, Youssef:Omar, Youssef:Abdelrahman Said, Youssef:Omar, Youssef:Omar, Youssef:Omar, Youssef:Abdelrahman Said, Youssef:Omar, Youssef:Abdelrahman Said, Youssef:Omar, Youssef:Omar, Youssef:Omar, Youssef:Omar, Youssef:Abdelrahman Said, Youssef:Abdelrahman Said, Youssef:Omar, Youssef:Omar, Youssef:Omar, Youssef:Omar, Youssef:Omar, Youssef:Omar, Youssef:Omar, Youssef:Omar, Youssef:Omar, Youssef:Omar, Youssef:Omar, Youssef:Sherif, 71 324.0\n",
      "Accuracy:  0.7809\n",
      "Average time taken per sample in ms 7.61\n",
      "Preprocessing MisPredictions:  0\n",
      "models\n",
      "Speaker Identified Successfully\n"
     ]
    }
   ],
   "source": [
    "subset = \"a1\"\n",
    "# subset = \"training_e\"\n",
    "\n",
    "# test = \"normalized\"\n",
    "# subset = \"testing_different\"\n",
    "\n",
    "source = f\"dataset_cm/{subset}/\"\n",
    "\n",
    "#path where training speakers will be saved\n",
    "modelpath = \"models\"\n",
    "\n",
    "gmm_files = [os.path.join(modelpath,fname) for fname in \n",
    "              os.listdir(modelpath) if fname.endswith('.gmm')]\n",
    "\n",
    "#Load the Gaussian Models\n",
    "models    = [cPickle.load(open(fname,'rb')) for fname in gmm_files]\n",
    "print(\"Loaded Models: \", len(models))\n",
    "speakers   = [fname.split(\"/\")[-1].split(\".gmm\")[0] for fname \n",
    "              in gmm_files]\n",
    "\n",
    "error = 0\n",
    "total_samples = 0.0\n",
    "\n",
    "external_class_true_count = 0\n",
    "# print(\"Press '1' for checking a single Audio or Press '0' for testing a complete set of audio with Accuracy?\")\n",
    "# take=int(input().strip())\n",
    "\n",
    "predictions = []\n",
    "gender_predictions = []\n",
    "gender_gt = []\n",
    "y_true = []\n",
    "preprocessingMisPredictions = 0\n",
    "print(\"Testing the model with all the samples...\")\n",
    "false_predictions = []\n",
    "file_paths = glob.glob(f\"{source}/**/*.wav\", recursive=True)\n",
    "\n",
    "# Read the test directory and get the list of test audio files \n",
    "avg_time = 0\n",
    "total_time = 0\n",
    "for path in file_paths:\n",
    "    time1 = time.time()   \n",
    "    total_samples+= 1.0\n",
    "    path=path.strip()\n",
    "    # print(\"Testing Audio : \", path)\n",
    "    sr,audio = read(path)\n",
    "    vector   = extract_features(audio,sr)\n",
    "    # print(vector.shape)\n",
    "    log_likelihood = np.zeros(len(models)) \n",
    "    for i in range(len(models)):\n",
    "        gmm    = models[i]  #checking with each model one by one\n",
    "        scores = np.array(gmm.score(vector))\n",
    "        log_likelihood[i] = scores.sum()\n",
    "    winner=np.argmax(log_likelihood)\n",
    "    winner_score = log_likelihood[winner]\n",
    "    # print(speakers[winner]) // models\\Abdelrahman Said_e1\n",
    "    # print(path) // dataset_cm/e1\\Abdelrahman Said_e1\\Abdelrahman Said_1.wav\n",
    "\n",
    "    predicted_speaker = speakers[winner].split('\\\\')[-1].split('_')[0]\n",
    "    speaker_label = path.split(\"\\\\\")[-1].split(\"_\")[0]\n",
    "    # print(\"OK score: \", winner_score)\n",
    "    predictions.append(predicted_speaker)\n",
    "    y_true.append(speaker_label)\n",
    "    if speaker_label == \"Abdelrahman\" or speaker_label == \"Youssef\" or speaker_label == \"Sherif\" or speaker_label == \"Omar\":\n",
    "        gender_predictions.append(\"M\")\n",
    "    else:\n",
    "        gender_predictions.append(\"F\")\n",
    "    if predicted_speaker == \"Abdelrahman\" or predicted_speaker == \"Youssef\" or predicted_speaker == \"Sherif\" or predicted_speaker == \"Omar\":\n",
    "        gender_gt.append(\"M\")\n",
    "    else:\n",
    "        gender_gt.append(\"F\")\n",
    "\n",
    "    \n",
    "    likelihoods = np.argsort(log_likelihood)[::-1]\n",
    "    \n",
    "    if predicted_speaker != speaker_label:\n",
    "        print(f\"{speaker_label}:{predicted_speaker}, \", end=\"\")\n",
    "        # print(f\"False Score: {winner_score}\")\n",
    "        # print(path)\n",
    "        error += 1\n",
    "\n",
    "    # time.sleep(1.0)\n",
    "    sample_time = time.time() - time1\n",
    "    total_time += sample_time\n",
    "print (error, total_samples)\n",
    "accuracy = ((total_samples - error) / total_samples)\n",
    "\n",
    "print (\"Accuracy: \", round(accuracy, 4))\n",
    "print(f\"Average time taken per sample in ms\", round((total_time/total_samples)*1000, 2))\n",
    "print(\"Preprocessing MisPredictions: \", preprocessingMisPredictions)\n",
    "# print (\"The following Predictions were False :\")\n",
    "# print (false_predictions)\n",
    "print(modelpath)\n",
    "print (\"Speaker Identified Successfully\")\n"
   ]
  },
  {
   "cell_type": "code",
   "execution_count": 18,
   "metadata": {},
   "outputs": [
    {
     "name": "stdout",
     "output_type": "stream",
     "text": [
      "                  precision    recall  f1-score   support\n",
      "\n",
      "          Sherif       1.00      0.94      0.97        18\n",
      "         Youssef       0.94      0.94      0.94        18\n",
      "Abdelrahman Said       0.95      1.00      0.97        18\n",
      "           Renad       1.00      0.94      0.97        18\n",
      "            Reem       0.95      1.00      0.97        18\n",
      "            Omar       1.00      1.00      1.00        18\n",
      "\n",
      "        accuracy                           0.97       108\n",
      "       macro avg       0.97      0.97      0.97       108\n",
      "    weighted avg       0.97      0.97      0.97       108\n",
      "\n"
     ]
    },
    {
     "data": {
      "text/plain": [
       "<sklearn.metrics._plot.confusion_matrix.ConfusionMatrixDisplay at 0x7fe76e227850>"
      ]
     },
     "execution_count": 18,
     "metadata": {},
     "output_type": "execute_result"
    },
    {
     "data": {
      "image/png": "[encoded data removed]",
      "text/plain": [
       "<Figure size 432x288 with 2 Axes>"
      ]
     },
     "metadata": {
      "needs_background": "light"
     },
     "output_type": "display_data"
    }
   ],
   "source": [
    "from sklearn.metrics import classification_report, ConfusionMatrixDisplay\n",
    "print(classification_report(y_true, predictions, target_names=set(y_true)))\n",
    "\n",
    "# labels = [y_true[i][0:4] for i in range(len(y_true))]\n",
    "labels = [item[:4] for item in set(y_true)]\n",
    "ConfusionMatrixDisplay.from_predictions(\n",
    "    y_true, predictions, display_labels=labels\n",
    ")"
   ]
  },
  {
   "cell_type": "code",
   "execution_count": null,
   "metadata": {},
   "outputs": [],
   "source": []
  }
 ],
 "metadata": {
  "kernelspec": {
   "display_name": "Python 3",
   "language": "python",
   "name": "python3"
  },
  "language_info": {
   "codemirror_mode": {
    "name": "ipython",
    "version": 3
   },
   "file_extension": ".py",
   "mimetype": "text/x-python",
   "name": "python",
   "nbconvert_exporter": "python",
   "pygments_lexer": "ipython3",
   "version": "3.11.8"
  }
 },
 "nbformat": 4,
 "nbformat_minor": 2
}
